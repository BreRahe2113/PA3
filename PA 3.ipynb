{
 "cells": [
  {
   "cell_type": "code",
   "execution_count": 11,
   "id": "12c3aecf",
   "metadata": {},
   "outputs": [
    {
     "name": "stdout",
     "output_type": "stream",
     "text": [
      "Enter the length of side A: 5\n",
      "Enter the length of side B: 5\n",
      "Enter the length of side C: 5\n",
      "The area of the triangle is approximately : 10.825317547305483 Linear Units\n",
      "The perimeter of the triangle is:  15 Linear Units\n"
     ]
    }
   ],
   "source": [
    "import math\n",
    "a= int(input(\"Enter the length of side A: \"))\n",
    "b= int(input(\"Enter the length of side B: \"))\n",
    "c= int(input(\"Enter the length of side C: \"))\n",
    "def area(a=1, b=1, c=1):\n",
    "    s= (a+b+c)/2\n",
    "    area= math.sqrt(s*(s-a)*(s-b)*(s-c))\n",
    "    return area\n",
    "print(\"The area of the triangle is approximately :\", area(a, b, c), \"Linear Units\")\n",
    "def perimeter (a=1, b=1, c=1):\n",
    "    perimeter= a + b +c\n",
    "    return perimeter\n",
    "print(\"The perimeter of the triangle is: \", perimeter(a, b ,c), \"Linear Units\")\n"
   ]
  },
  {
   "cell_type": "code",
   "execution_count": 13,
   "id": "132ac69b",
   "metadata": {},
   "outputs": [
    {
     "name": "stdout",
     "output_type": "stream",
     "text": [
      "Enter any number between 1 to 1000: 500\n",
      "Too low, guess again\n",
      "Enter any number between 1 to 1000: 345\n",
      "Too low, guess again\n",
      "Enter any number between 1 to 1000: 600\n",
      "Too low, guess again\n",
      "Enter any number between 1 to 1000: 700\n",
      "Too low, guess again\n",
      "Enter any number between 1 to 1000: 800\n",
      "Too low, guess again\n",
      "Enter any number between 1 to 1000: 900\n",
      "Too high, guess again\n",
      "Enter any number between 1 to 1000: 830\n",
      "Too high, guess again\n",
      "Enter any number between 1 to 1000: 825\n",
      "Too low, guess again\n",
      "Enter any number between 1 to 1000: 826\n",
      "Too low, guess again\n",
      "Enter any number between 1 to 1000: 827\n",
      "Too low, guess again\n",
      "Enter any number between 1 to 1000: 828\n",
      "Too low, guess again\n",
      "Enter any number between 1 to 1000: 829\n",
      "Correct!\n"
     ]
    }
   ],
   "source": [
    "import random\n",
    "number= random.randint(1,1000)\n",
    "Entered_number=None\n",
    "while Entered_number != number:\n",
    "    Entered_number=int(input(\"Enter any number between 1 to 1000: \"))\n",
    "    if Entered_number> number:\n",
    "        print(\"Too high, guess again\")\n",
    "    elif Entered_number< number:\n",
    "        print(\"Too low, guess again\")\n",
    "    else:\n",
    "        print(\"Correct!\")"
   ]
  },
  {
   "cell_type": "code",
   "execution_count": 20,
   "id": "259f6c27",
   "metadata": {},
   "outputs": [
    {
     "name": "stdout",
     "output_type": "stream",
     "text": [
      "The mean temp for the last 7 days is:  36.42857142857143 Degrees F\n",
      "The mean temp for the last 5 days is:  30.2 Degrees F\n",
      "The mean temp for the last 2 days is:  31.0 Degrees F\n"
     ]
    }
   ],
   "source": [
    "def mean_temp(*args):\n",
    "    return sum(args)/len(args)\n",
    "print(\"The mean temp for the last 7 days is: \", mean_temp(30,32,12,45,32,34,70), \"Degrees F\")\n",
    "print(\"The mean temp for the last 5 days is: \", mean_temp(30,32,12,45,32), \"Degrees F\")\n",
    "print(\"The mean temp for the last 2 days is: \", mean_temp(30,32), \"Degrees F\")"
   ]
  },
  {
   "cell_type": "code",
   "execution_count": null,
   "id": "3364b555",
   "metadata": {},
   "outputs": [],
   "source": []
  }
 ],
 "metadata": {
  "kernelspec": {
   "display_name": "Python 3",
   "language": "python",
   "name": "python3"
  },
  "language_info": {
   "codemirror_mode": {
    "name": "ipython",
    "version": 3
   },
   "file_extension": ".py",
   "mimetype": "text/x-python",
   "name": "python",
   "nbconvert_exporter": "python",
   "pygments_lexer": "ipython3",
   "version": "3.8.8"
  }
 },
 "nbformat": 4,
 "nbformat_minor": 5
}
